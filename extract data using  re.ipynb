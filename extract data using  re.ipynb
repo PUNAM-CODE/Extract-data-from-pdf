{
 "cells": [
  {
   "cell_type": "code",
   "execution_count": 1,
   "id": "63a83854",
   "metadata": {},
   "outputs": [],
   "source": [
    "import re"
   ]
  },
  {
   "cell_type": "code",
   "execution_count": 2,
   "id": "56adedfd",
   "metadata": {},
   "outputs": [],
   "source": [
    "txt='123aasdasd345435dsffd34324ADSDFDVFD'"
   ]
  },
  {
   "cell_type": "code",
   "execution_count": 22,
   "id": "40a65a3e",
   "metadata": {},
   "outputs": [],
   "source": [
    "#Pattern=re.compile(r\"123\")\n",
    "pattern=re.compile(r'\\d{4}')"
   ]
  },
  {
   "cell_type": "code",
   "execution_count": 23,
   "id": "b2fa4bdf",
   "metadata": {},
   "outputs": [],
   "source": [
    "matches=Pattern.finditer(txt)"
   ]
  },
  {
   "cell_type": "code",
   "execution_count": 24,
   "id": "ac6e5cde",
   "metadata": {},
   "outputs": [
    {
     "name": "stdout",
     "output_type": "stream",
     "text": [
      "<re.Match object; span=(0, 3), match='123'>\n"
     ]
    }
   ],
   "source": [
    "for match in matches:\n",
    "    print(match)"
   ]
  },
  {
   "cell_type": "code",
   "execution_count": 25,
   "id": "ec2ff17f",
   "metadata": {},
   "outputs": [],
   "source": [
    "matches=re.finditer(r\"123\",txt)"
   ]
  },
  {
   "cell_type": "code",
   "execution_count": 26,
   "id": "963e1d6c",
   "metadata": {},
   "outputs": [
    {
     "name": "stdout",
     "output_type": "stream",
     "text": [
      "<callable_iterator object at 0x0000029C261DEC40>\n"
     ]
    }
   ],
   "source": [
    "print(matches)"
   ]
  },
  {
   "cell_type": "code",
   "execution_count": 27,
   "id": "7f45a2bb",
   "metadata": {},
   "outputs": [],
   "source": [
    "matches=re.findall(r'123',txt)"
   ]
  },
  {
   "cell_type": "code",
   "execution_count": 28,
   "id": "1da54c77",
   "metadata": {},
   "outputs": [
    {
     "name": "stdout",
     "output_type": "stream",
     "text": [
      "['123']\n"
     ]
    }
   ],
   "source": [
    "print(matches)"
   ]
  },
  {
   "cell_type": "code",
   "execution_count": 29,
   "id": "a2271f54",
   "metadata": {},
   "outputs": [],
   "source": [
    "txt1='232334SDFFDGRERGREGdfegrg heuuoGEUUO 1232-'"
   ]
  },
  {
   "cell_type": "code",
   "execution_count": 34,
   "id": "4907d976",
   "metadata": {},
   "outputs": [],
   "source": [
    "#pattern=re.compile(r'[a-z]')\n",
    "pattern=re.compile(r'\\d{4}')"
   ]
  },
  {
   "cell_type": "code",
   "execution_count": 35,
   "id": "ce1b4fce",
   "metadata": {},
   "outputs": [],
   "source": [
    "matches=pattern.finditer(txt1)"
   ]
  },
  {
   "cell_type": "code",
   "execution_count": 36,
   "id": "4b108d67",
   "metadata": {},
   "outputs": [
    {
     "name": "stdout",
     "output_type": "stream",
     "text": [
      "<callable_iterator object at 0x0000029C261DE460>\n"
     ]
    }
   ],
   "source": [
    "print(matches)"
   ]
  },
  {
   "cell_type": "code",
   "execution_count": 37,
   "id": "9efa3380",
   "metadata": {},
   "outputs": [
    {
     "name": "stdout",
     "output_type": "stream",
     "text": [
      "<re.Match object; span=(0, 4), match='2323'>\n",
      "<re.Match object; span=(37, 41), match='1232'>\n"
     ]
    }
   ],
   "source": [
    "for match in matches:\n",
    "    print(match)"
   ]
  },
  {
   "cell_type": "code",
   "execution_count": 38,
   "id": "00394cef",
   "metadata": {},
   "outputs": [],
   "source": [
    "date='2020.04.01 2020/08/11'"
   ]
  },
  {
   "cell_type": "code",
   "execution_count": 42,
   "id": "122a23b9",
   "metadata": {},
   "outputs": [],
   "source": [
    "#pattern=re.compile(r'\\d\\d\\d\\d.\\d\\d.\\d\\d')\n",
    "pattern=re.compile(r'\\d\\d\\d\\d[-/]0[78][-/]\\d\\d')"
   ]
  },
  {
   "cell_type": "code",
   "execution_count": 43,
   "id": "592f8112",
   "metadata": {},
   "outputs": [],
   "source": [
    "matches=pattern.finditer(date)"
   ]
  },
  {
   "cell_type": "code",
   "execution_count": 44,
   "id": "a47830d3",
   "metadata": {},
   "outputs": [
    {
     "name": "stdout",
     "output_type": "stream",
     "text": [
      "<re.Match object; span=(11, 21), match='2020/08/11'>\n"
     ]
    }
   ],
   "source": [
    "for match in matches:\n",
    "    print(match)"
   ]
  },
  {
   "cell_type": "code",
   "execution_count": 76,
   "id": "3497af97",
   "metadata": {},
   "outputs": [],
   "source": [
    "condition='Mrs simpson Mrs Simpson Mr.Brown Ms Smith Mr.T  pythonengineer@gmai.com python-engineer@hmx.de python-engineer123@my-domain.org'"
   ]
  },
  {
   "cell_type": "code",
   "execution_count": 63,
   "id": "cdb1e783",
   "metadata": {},
   "outputs": [],
   "source": [
    "#pattern=re.compile('Mr\\s\\W+')\n",
    "pattern=re.compile(r'(Mr|Ms|Mrs)\\.?\\s\\w+')"
   ]
  },
  {
   "cell_type": "code",
   "execution_count": 64,
   "id": "7bdece05",
   "metadata": {},
   "outputs": [],
   "source": [
    "matches=pattern.finditer(condition)"
   ]
  },
  {
   "cell_type": "code",
   "execution_count": 65,
   "id": "78f05db8",
   "metadata": {},
   "outputs": [
    {
     "name": "stdout",
     "output_type": "stream",
     "text": [
      "<re.Match object; span=(0, 11), match='Mrs simpson'>\n",
      "<re.Match object; span=(12, 23), match='Mrs Simpson'>\n",
      "<re.Match object; span=(33, 41), match='Ms Smith'>\n"
     ]
    }
   ],
   "source": [
    "for match in matches:\n",
    "    print(match)"
   ]
  },
  {
   "cell_type": "code",
   "execution_count": 90,
   "id": "b9c8b397",
   "metadata": {},
   "outputs": [],
   "source": [
    "pattern=re.compile(r'[a-zA-Z]+@[a-z]+\\.(com|de)')"
   ]
  },
  {
   "cell_type": "code",
   "execution_count": 91,
   "id": "c3eecadd",
   "metadata": {},
   "outputs": [],
   "source": [
    "matches=pattern.finditer(condition)"
   ]
  },
  {
   "cell_type": "code",
   "execution_count": 92,
   "id": "116936b1",
   "metadata": {},
   "outputs": [
    {
     "name": "stdout",
     "output_type": "stream",
     "text": [
      "<re.Match object; span=(48, 71), match='pythonengineer@gmai.com'>\n",
      "<re.Match object; span=(79, 94), match='engineer@hmx.de'>\n"
     ]
    }
   ],
   "source": [
    "for match in matches:\n",
    "    print(match)"
   ]
  },
  {
   "cell_type": "code",
   "execution_count": 93,
   "id": "36b71ed0",
   "metadata": {},
   "outputs": [],
   "source": [
    "for match in matches:\n",
    "    print(match.group(1))"
   ]
  },
  {
   "cell_type": "code",
   "execution_count": 94,
   "id": "9e82231c",
   "metadata": {},
   "outputs": [],
   "source": [
    "spit='123asdabc435435ghgadb4543ABC'"
   ]
  },
  {
   "cell_type": "code",
   "execution_count": 96,
   "id": "8aca0c85",
   "metadata": {},
   "outputs": [],
   "source": [
    "pattern=re.compile(r'abc')\n",
    "sp=pattern.split(spit)"
   ]
  },
  {
   "cell_type": "code",
   "execution_count": 97,
   "id": "723dd251",
   "metadata": {},
   "outputs": [
    {
     "name": "stdout",
     "output_type": "stream",
     "text": [
      "['123asd', '435435ghgadb4543ABC']\n"
     ]
    }
   ],
   "source": [
    "print(sp)"
   ]
  },
  {
   "cell_type": "code",
   "execution_count": 98,
   "id": "f8a62039",
   "metadata": {},
   "outputs": [],
   "source": [
    "string='word ,you are the best word'"
   ]
  },
  {
   "cell_type": "code",
   "execution_count": 99,
   "id": "27b581c5",
   "metadata": {},
   "outputs": [],
   "source": [
    "pattern=re.compile(r'you')\n",
    "sub=pattern.sub('good',string)"
   ]
  },
  {
   "cell_type": "code",
   "execution_count": 100,
   "id": "790693f2",
   "metadata": {},
   "outputs": [
    {
     "name": "stdout",
     "output_type": "stream",
     "text": [
      "word ,good are the best word\n"
     ]
    }
   ],
   "source": [
    "print(sub)"
   ]
  },
  {
   "cell_type": "code",
   "execution_count": null,
   "id": "5d716f31",
   "metadata": {},
   "outputs": [],
   "source": []
  }
 ],
 "metadata": {
  "kernelspec": {
   "display_name": "Python 3 (ipykernel)",
   "language": "python",
   "name": "python3"
  },
  "language_info": {
   "codemirror_mode": {
    "name": "ipython",
    "version": 3
   },
   "file_extension": ".py",
   "mimetype": "text/x-python",
   "name": "python",
   "nbconvert_exporter": "python",
   "pygments_lexer": "ipython3",
   "version": "3.9.7"
  }
 },
 "nbformat": 4,
 "nbformat_minor": 5
}
